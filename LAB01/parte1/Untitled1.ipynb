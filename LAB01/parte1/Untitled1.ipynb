{
 "cells": [
  {
   "cell_type": "markdown",
   "id": "58345d37-d0e6-40d0-87eb-6e811b814dd9",
   "metadata": {},
   "source": [
    "# Guia de Utilização e Documentação do Visualizador de Objetos 2D\n",
    "\n",
    "- <span style=\"color: #DB5F00;\">**Discente:**</span> João Vitor Ribeiro Botelho.\n",
    "- <span style=\"color: #DB5F00;\">**Disciplina:**</span> Computação Gráfica.\n",
    "- <span style=\"color: #DB5F00;\">**Ciência da Computação**</span>\n",
    "- <span style=\"color: #278E9C;\">*Instituto Federal do Norte de Minas Gerais - Campus Montes Claros*</span>\n",
    "\n",
    "---"
   ]
  },
  {
   "cell_type": "markdown",
   "id": "7c039d07-236d-47c9-a893-0206a32e7b37",
   "metadata": {},
   "source": [
    "## Introdução\n",
    "\n",
    "Neste projeto, foi desenvolvida uma aplicação gráfica em Python utilizando a biblioteca Tkinter para visualização de objetos geométricos 2D a partir de arquivos XML. \n",
    "\n",
    "O objetivo da aplicação é carregar, exibir e interagir com objetos como pontos, retas e polígonos dentro de uma janela, além de permitir movimentação da janela de visualização e exibição de um minimapa."
   ]
  },
  {
   "cell_type": "markdown",
   "id": "813163ed-2a64-4b51-9a1e-9d7b930d6bf1",
   "metadata": {},
   "source": [
    "---"
   ]
  },
  {
   "cell_type": "markdown",
   "id": "ec5e6527-94fc-45fe-a9cc-4bf60fb6d28d",
   "metadata": {},
   "source": [
    "## Objetivos do Programa\n",
    "O programa permite que o usuário visualize objetos 2D que são armazenados em um arquivo XML. \n",
    "\n",
    "A interface gráfica oferece as funcionalidades de zoom, movimentação da janela de visualização e exibição de minimapa para facilitar a navegação e o entendimento do conteúdo carregado."
   ]
  },
  {
   "cell_type": "markdown",
   "id": "97e704ed-be2b-415a-bcd7-00151fa98010",
   "metadata": {},
   "source": [
    "-----"
   ]
  },
  {
   "cell_type": "markdown",
   "id": "44e6a1cc-d938-4635-810e-fa507ab12230",
   "metadata": {},
   "source": [
    "## Configuração e Requisitos\n",
    "Antes de executar o código, é necessário garantir que você tenha o Python 3.x instalado e as bibliotecas requeridas. As bibliotecas necessárias para este projeto são:\n",
    "\n",
    "- Tkinter: Para a criação da interface gráfica.\n",
    "- xml.etree.ElementTree: Para o carregamento e manipulação de arquivos XML.\n",
    "- xml.dom.minidom: Para a formatação do XML antes de salvá-lo.\n",
    "\n",
    "Se o Tkinter não estiver instalado, é possível instalá-lo com o comando:"
   ]
  },
  {
   "cell_type": "code",
   "execution_count": null,
   "id": "3d07f17a-1538-47ad-8ef1-aab980cb6308",
   "metadata": {},
   "outputs": [],
   "source": [
    "pip install tk"
   ]
  },
  {
   "cell_type": "markdown",
   "id": "960d5079-3500-465e-8b21-6de76636447e",
   "metadata": {},
   "source": [
    "Além disso, o projeto utiliza apenas bibliotecas nativas do Python, então não há necessidade de instalar dependências adicionais."
   ]
  },
  {
   "cell_type": "markdown",
   "id": "6ea477a1-f7f1-4681-8f32-8cf4c8e466cc",
   "metadata": {},
   "source": [
    "---"
   ]
  },
  {
   "cell_type": "markdown",
   "id": "bfc27c8f-14cf-447c-96eb-4b9387628f46",
   "metadata": {},
   "source": [
    "## Estrutura do Programa\n",
    "#### Tela Principal e Componentes\n",
    "A aplicação utiliza um canvas principal para exibição dos objetos geométricos, e um minimapa ao lado para facilitar a navegação. As principais opções incluem:\n",
    "\n",
    "- Abrir Arquivo XML: Carrega um arquivo XML contendo os objetos 2D.\n",
    "- Salvar Arquivo XML: Salva a visualização atual de objetos no formato XML.\n",
    "\n",
    "#### Desenho dos Objetos\n",
    "O programa desenha três tipos de objetos:\n",
    "\n",
    "- Pontos: Representados por círculos pequenos.\n",
    "- Retas: Representadas por linhas conectando dois pontos.\n",
    "- Polígonos: Representados por linhas conectando uma sequência de pontos.\n",
    "\n",
    "#### Movimentação da Janela\n",
    "   \n",
    "A janela de visualização pode ser movida utilizando as teclas de direção (cima, baixo, esquerda, direita)."
   ]
  },
  {
   "cell_type": "markdown",
   "id": "47a7a9b8-7db0-4c9e-ab0d-c03b091afa5d",
   "metadata": {},
   "source": [
    "---"
   ]
  },
  {
   "cell_type": "markdown",
   "id": "54cc435f-24fa-40e6-9ced-a237f1af327d",
   "metadata": {},
   "source": [
    "## Bibliotecas"
   ]
  },
  {
   "cell_type": "code",
   "execution_count": null,
   "id": "872b5db3-0734-495b-8595-5d88dc50b7d5",
   "metadata": {},
   "outputs": [],
   "source": [
    "# Importação das bibliotecas necessárias\n",
    "import tkinter as tk  # Para a interface gráfica\n",
    "from tkinter import filedialog, messagebox  # Para manipulação de arquivos e exibição de mensagens\n",
    "import xml.etree.ElementTree as et  # Para parseamento de arquivos XML\n",
    "from xml.dom import minidom  # Para formatação de XML"
   ]
  },
  {
   "cell_type": "markdown",
   "id": "e5261e1d-808f-4413-a552-00f2c77f4b5c",
   "metadata": {},
   "source": [
    "### tkinter\n",
    "A escolha de utilizar Tkinter para a interface gráfica foi baseada na simplicidade da biblioteca, que é suficiente para as necessidades deste projeto e permite uma rápida prototipagem. Ela é uma das bibliotecas mais utilizadas em Python para desenvolvimento de aplicações desktop, permitindo criar janelas, botões, menus e outros elementos gráficos interativos.\n",
    "\n",
    "A interface é intuitiva e interativa, permitindo ao usuário interagir facilmente com os objetos.\n",
    "\n"
   ]
  },
  {
   "cell_type": "markdown",
   "id": "853fc5b8-d809-4665-980a-2523b155acfb",
   "metadata": {},
   "source": [
    "### xml.etree.ElementTree\n",
    "A biblioteca xml.etree.ElementTree é utilizada para a manipulação de arquivos XML. Ela oferece uma maneira simples de ler, escrever e editar arquivos XML de forma eficiente."
   ]
  },
  {
   "cell_type": "markdown",
   "id": "c7e3aa17-403c-45b4-b352-b38cc85eea09",
   "metadata": {},
   "source": [
    "### xml.dom.minidom\n",
    "A biblioteca xml.dom.minidom é usada para formatar o arquivo XML antes de ser salvo, garantindo que ele tenha uma estrutura legível (com indentação) para facilitar a leitura humana. \n",
    "\n",
    "Essa biblioteca não altera a funcionalidade do programa, mas melhora a apresentação do arquivo final."
   ]
  },
  {
   "cell_type": "markdown",
   "id": "31285188-1a16-4c63-a37c-2101843fdc69",
   "metadata": {},
   "source": [
    "---"
   ]
  },
  {
   "cell_type": "markdown",
   "id": "95405bc9-afe6-46b2-98bb-b8c24ee8d90b",
   "metadata": {},
   "source": [
    "## Menu do Programa\n",
    "\n",
    "<div style=\"background-color: lightblue; padding: 20px;\">\n",
    "    <img src=\"images/menu.png\" alt=\"Imagem com fundo colorido\">\n",
    "</div>"
   ]
  },
  {
   "cell_type": "markdown",
   "id": "7a3da832-dff3-4656-90b4-f073b13f6daa",
   "metadata": {},
   "source": [
    "#### Abrir (Carregar Arquivo XML )\n",
    "Ao carregar um arquivo XML, a aplicação interpreta o conteúdo e cria os objetos 2D (pontos, retas, polígonos) com base nas coordenadas fornecidas.\n",
    "\n",
    "O arquivo XML segue o formato:"
   ]
  },
  {
   "cell_type": "code",
   "execution_count": null,
   "id": "5581481b-63c6-40fb-b197-e5e39d50f09d",
   "metadata": {},
   "outputs": [],
   "source": [
    "<dados>\n",
    "    <viewport>\n",
    "        <vpmin x=\"0\" y=\"0\"/>\n",
    "        <vpmax x=\"800\" y=\"600\"/>\n",
    "    </viewport>\n",
    "    <window>\n",
    "        <wmin x=\"0\" y=\"0\"/>\n",
    "        <wmax x=\"10\" y=\"7.5\"/>\n",
    "    </window>\n",
    "    <ponto x=\"1\" y=\"1\"/>\n",
    "    <reta>\n",
    "        <ponto x=\"1\" y=\"1\"/>\n",
    "        <ponto x=\"2\" y=\"2\"/>\n",
    "    </reta>\n",
    "    <poligono>\n",
    "        <ponto x=\"2\" y=\"2\"/>\n",
    "        <ponto x=\"3\" y=\"3\"/>\n",
    "        <ponto x=\"2\" y=\"4\"/>\n",
    "    </poligono>\n",
    "</dados>\n"
   ]
  },
  {
   "cell_type": "markdown",
   "id": "084d96c0-e30c-4b4b-a4fd-32ca23569760",
   "metadata": {},
   "source": [
    "#### Salvar (Salvamento de Arquivo XML)\n",
    "   \n",
    "O programa também permite salvar a visualização atual em formato XML. O arquivo gerado seguirá o mesmo formato, com a inclusão de viewport e window, e os objetos geométricos que foram desenhados na tela."
   ]
  },
  {
   "cell_type": "markdown",
   "id": "2b8397a0-ba70-4561-a9f5-7645cc2f8bf9",
   "metadata": {},
   "source": [
    "---"
   ]
  },
  {
   "cell_type": "markdown",
   "id": "1687c64d-0d11-45ad-823c-c15f6dbb91c8",
   "metadata": {},
   "source": [
    "## Decisões de Implementação\n",
    "#### Estrutura de Dados\n",
    "\n",
    "A estrutura de dados do programa foi projetada de forma a ser simples e eficiente para armazenar os objetos 2D. A aplicação utiliza uma lista chamada objetos, onde cada item é uma tupla contendo o tipo de objeto e suas coordenadas.\n",
    "\n",
    "#### Transformação de Coordenadas\n",
    "   \n",
    "Uma decisão importante foi a implementação de uma função window2viewport, que transforma as coordenadas do sistema de coordenadas do mundo para o sistema de coordenadas da janela de visualização. Isso é necessário para mapear corretamente os objetos da cena para a tela."
   ]
  },
  {
   "cell_type": "code",
   "execution_count": null,
   "id": "133241b6-6589-4abc-bc62-2e61c3a09427",
   "metadata": {},
   "outputs": [],
   "source": [
    "def window2viewport(self, ponto):\n",
    "    x, y = ponto\n",
    "    wx_min, wy_min, wx_max, wy_max = self.window\n",
    "    vx_min, vy_min, vx_max, vy_max = self.viewport\n",
    "\n",
    "    sx = (vx_max - vx_min) / (wx_max - wx_min)\n",
    "    sy = (vy_max - vy_min) / (wy_max - wy_min)\n",
    "\n",
    "    vx = vx_min + (x - wx_min) * sx\n",
    "    vy = vy_min + (wy_max - y) * sy\n",
    "    return vx, vy\n"
   ]
  },
  {
   "cell_type": "markdown",
   "id": "56223fa0-3ea0-43e3-937c-5ab414f69172",
   "metadata": {},
   "source": [
    "---"
   ]
  },
  {
   "cell_type": "markdown",
   "id": "baf0e10b-dce6-49b2-b25b-ff8e3af9d085",
   "metadata": {},
   "source": [
    "---"
   ]
  },
  {
   "cell_type": "markdown",
   "id": "a88c8b81-7f60-4aab-b339-08c027444254",
   "metadata": {},
   "source": [
    "## Classe `Visualizador`\n",
    "A classe `Visualizador` é responsável pela criação da interface gráfica, carregamento e exibição dos objetos 2D (pontos, retas, polígonos) a partir de arquivos XML. Ela utiliza o Tkinter para gerar os componentes gráficos e o XML para carregar e salvar as informações dos objetos."
   ]
  },
  {
   "cell_type": "code",
   "execution_count": null,
   "id": "688487e5-02be-4781-ba7f-9d0f8f24424b",
   "metadata": {},
   "outputs": [],
   "source": [
    "class Visualizador:\n",
    "    def __init__(self, root):\n",
    "        self.root = root\n",
    "        self.root.title(\"Visualizador de Objetos 2D\")\n",
    "        \n",
    "        # Configuração do menu de opções\n",
    "        menu = tk.Menu(root)\n",
    "        root.config(menu=menu)\n",
    "        file_menu = tk.Menu(menu, tearoff=0)\n",
    "        menu.add_cascade(label=\"Arquivo\", menu=file_menu)\n",
    "        file_menu.add_command(label=\"Abrir\", command=self.abrir_arquivo)\n",
    "        file_menu.add_command(label=\"Salvar\", command=self.salvar_arquivo)\n",
    "        \n",
    "        # Criação do canvas para exibição\n",
    "        frame_principal = tk.Frame(root, bg=\"darkgray\")\n",
    "        frame_principal.pack(fill=\"both\", expand=True)\n",
    "        self.canvas = tk.Canvas(frame_principal, width=800, height=600, bg=\"white\")\n",
    "        self.canvas.pack(side=\"left\", fill=\"both\", expand=True)\n",
    "        self.minimap = tk.Canvas(frame_principal, width=150, height=120, bg=\"lightgrey\")\n",
    "        self.minimap.pack(side=\"right\", padx=10, pady=10)\n"
   ]
  },
  {
   "cell_type": "markdown",
   "id": "17d8de55-f965-48bd-8755-3a49adeb061b",
   "metadata": {},
   "source": [
    "---"
   ]
  },
  {
   "cell_type": "markdown",
   "id": "6fd545a3-0f7a-4664-833b-de0e484f13f5",
   "metadata": {},
   "source": [
    "## Como Usar o Programa\n",
    "\n",
    "1. ### Carregar um Arquivo XML\n",
    "    Clique na opção \"Abrir\" no menu \"Arquivo\"\n",
    "\n",
    "![Exemplo do Programa](images/abrir.png)\n",
    "\n",
    "e selecione um arquivo XML válido.\n",
    "\n",
    "![Exemplo do Programa](images/selecionaArquivo.png)\n",
    "\n",
    "O programa irá carregar os objetos e exibi-los na janela principal.\n",
    "\n",
    "2. ### Visualizar e Interagir com a Janela\n",
    "    A janela de visualização pode ser movimentada usando as teclas seta para cima, seta para baixo, seta para esquerda e seta para direita.\n",
    "\n",
    "![Exemplo do Programa](images/tela.png)\n",
    "\n",
    "3. ### Salvar a Visualização\n",
    "    Após modificar a visualização ou adicionar novos objetos, você pode salvar a janela atual em um arquivo XML. Para isso, basta selecionar \"Salvar\" no menu \"Arquivo\".\n",
    "   \n",
    "![Exemplo do Programa](images/salvar.png)\n",
    "![Exemplo do Programa](images/nomeSave.png)"
   ]
  },
  {
   "cell_type": "markdown",
   "id": "ba35d8e9-951b-4eb9-b5b4-bb920299833e",
   "metadata": {},
   "source": [
    "---"
   ]
  },
  {
   "cell_type": "markdown",
   "id": "cfbca5fa-b996-45bf-89a2-4c0b84bc54dc",
   "metadata": {},
   "source": [
    "## Método `abrir_arquivo`\n",
    "Este método abre uma janela de diálogo para que o usuário selecione um arquivo XML. O arquivo é então carregado e os objetos 2D são desenhados na tela.\n"
   ]
  },
  {
   "cell_type": "code",
   "execution_count": null,
   "id": "f2d26c98-09f8-4d07-b7c9-9ac6c4e252c6",
   "metadata": {},
   "outputs": [],
   "source": [
    "def abrir_arquivo(self):\n",
    "    caminho = filedialog.askopenfilename(filetypes=[(\"Arquivos XML\", \"*.xml\")])\n",
    "    if caminho:\n",
    "        if not self.carregar_arquivo(caminho):\n",
    "            messagebox.showerror(\"Erro\", \"Falha ao carregar o arquivo.\")\n",
    "        else:\n",
    "            self.desenhar_viewport()\n",
    "            self.desenhar_minimapa()\n"
   ]
  },
  {
   "cell_type": "markdown",
   "id": "dadd6155-1a58-4177-a895-d1a232bc8915",
   "metadata": {},
   "source": [
    "#### Objetivo: \n",
    "Permite ao usuário escolher um arquivo XML para carregar.\n",
    "#### Detalhes: \n",
    "Ao selecionar o arquivo, o programa tenta carregá-lo usando o método carregar_arquivo. Se a carga for bem-sucedida, o método desenha a área de visualização e o minimapa. Caso contrário, exibe uma mensagem de erro."
   ]
  },
  {
   "cell_type": "markdown",
   "id": "b9a1fcd3-ec81-419b-893f-c46ecfdd3fed",
   "metadata": {},
   "source": [
    "---"
   ]
  },
  {
   "cell_type": "markdown",
   "id": "62758cff-f8ed-4dd0-81de-0db0e595c0f8",
   "metadata": {},
   "source": [
    "## Método `salvar_arquivo`\n",
    "Este método permite ao usuário salvar a configuração atual (objetos e viewport) em um arquivo XML."
   ]
  },
  {
   "cell_type": "code",
   "execution_count": null,
   "id": "007dd385-ad59-4834-9f75-ec4c9e7f061e",
   "metadata": {},
   "outputs": [],
   "source": [
    "def salvar_arquivo(self):\n",
    "    caminho = filedialog.asksaveasfilename(defaultextension=\".xml\", filetypes=[(\"Arquivos XML\", \"*.xml\")])\n",
    "    if caminho:\n",
    "        self.gerar_arquivo_saida(caminho)"
   ]
  },
  {
   "cell_type": "markdown",
   "id": "94804b1d-8af6-476c-834d-e2df7f66cb66",
   "metadata": {},
   "source": [
    "#### Objetivo: \n",
    "ermite ao usuário salvar os dados atuais em um arquivo XML.\n",
    "#### Detalhes: \n",
    "Após selecionar o local para salvar o arquivo, o método chama gerar_arquivo_saida, que cria o arquivo XML com os dados."
   ]
  },
  {
   "cell_type": "markdown",
   "id": "247fbc6e-0ffa-4452-adce-32d01db9ea5c",
   "metadata": {},
   "source": [
    "---"
   ]
  },
  {
   "cell_type": "markdown",
   "id": "0568f0db-48d8-4ed4-affc-15487a1fe636",
   "metadata": {},
   "source": [
    "## Método `carregar_arquivo`\n",
    "Este método é responsável por carregar o arquivo XML selecionado e processar os dados."
   ]
  },
  {
   "cell_type": "code",
   "execution_count": null,
   "id": "cbf972e6-5141-4999-99bf-ca9fc8280aa1",
   "metadata": {},
   "outputs": [],
   "source": [
    "def carregar_arquivo(self, caminho):\n",
    "    try:\n",
    "        self.objetos.clear()\n",
    "        tree = et.parse(caminho)\n",
    "        root = tree.getroot()\n",
    "        ...\n",
    "        return True\n",
    "    except Exception as e:\n",
    "        print(f\"Erro ao carregar o arquivo: {e}\")\n",
    "        return False"
   ]
  },
  {
   "cell_type": "markdown",
   "id": "343facba-f605-4a39-a997-94be30fdb9fb",
   "metadata": {},
   "source": [
    "#### Objetivo: \n",
    "Carregar e processar os dados do arquivo XML.\n",
    "#### Detalhes: \n",
    "O método lê o arquivo XML, extrai os dados dos objetos e da área de visualização, e armazena essas informações para visualização posterior. Se ocorrer algum erro durante a leitura, ele exibe uma mensagem de erro."
   ]
  },
  {
   "cell_type": "markdown",
   "id": "aaa9be65-69c0-4dff-ba92-0fb43d0fb808",
   "metadata": {},
   "source": [
    "---"
   ]
  },
  {
   "cell_type": "markdown",
   "id": "966f7dbf-bf89-4dbd-a9a1-5dde57ed45c1",
   "metadata": {},
   "source": [
    "## Função `_carregar_viewport`"
   ]
  },
  {
   "cell_type": "code",
   "execution_count": null,
   "id": "bf882df5-87a6-40ad-8e73-cb6ed8ac43f7",
   "metadata": {},
   "outputs": [],
   "source": [
    "def _carregar_viewport(self, root):\n",
    "    vpmin = root.find(\"./viewport/vpmin\")\n",
    "    vpmax = root.find(\"./viewport/vpmax\")\n",
    "    if vpmin is not None and vpmax is not None:\n",
    "        return (float(vpmin.get(\"x\")), float(vpmin.get(\"y\")),\n",
    "                float(vpmax.get(\"x\")), float(vpmax.get(\"y\")))\n",
    "    return (0, 0, 800, 600)"
   ]
  },
  {
   "cell_type": "markdown",
   "id": "bc5e0acc-3819-4965-a7c4-7caea12001f8",
   "metadata": {},
   "source": [
    "#### Objetivo: \n",
    "Carregar a área de visualização (viewport) a partir do XML.\n",
    "#### Detalhes: \n",
    "Extrai as coordenadas mínimas e máximas da área de visualização do arquivo XML e as converte para valores numéricos. Se os dados não forem encontrados, retorna valores padrão."
   ]
  },
  {
   "cell_type": "markdown",
   "id": "75e6403d-256f-4294-8bba-8a48b23fec32",
   "metadata": {},
   "source": [
    "---"
   ]
  },
  {
   "cell_type": "markdown",
   "id": "cdab5261-93d4-4506-bef4-9862a9b76401",
   "metadata": {},
   "source": [
    "## Função `_carregar_window`\n"
   ]
  },
  {
   "cell_type": "code",
   "execution_count": null,
   "id": "05d6c7a2-85ff-4d9c-b4ad-0cdb4dde8804",
   "metadata": {},
   "outputs": [],
   "source": [
    "def _carregar_window(self, root):\n",
    "    wmin = root.find(\"./window/wmin\")\n",
    "    wmax = root.find(\"./window/wmax\")\n",
    "    if wmin is not None and wmax is not None:\n",
    "        return (float(wmin.get(\"x\")), float(wmin.get(\"y\")),\n",
    "                float(wmax.get(\"x\")), float(wmax.get(\"y\")))\n",
    "    return (0, 0, 10, 7.5)"
   ]
  },
  {
   "cell_type": "markdown",
   "id": "ab680f63-2a67-4fa2-8c49-7d5da0ad73cb",
   "metadata": {},
   "source": [
    "#### Objetivo: \n",
    "Carregar as coordenadas da \"janela\" de visualização a partir do XML.\n",
    "#### Detalhes: \n",
    "Extrai as coordenadas da \"janela\" de visualização (window) e converte para valores numéricos. Se os dados não forem encontrados, retorna valores padrão."
   ]
  },
  {
   "cell_type": "markdown",
   "id": "59633e08-59b2-41fa-8c10-2a3605200cf6",
   "metadata": {},
   "source": [
    "---"
   ]
  },
  {
   "cell_type": "markdown",
   "id": "a60faf53-a431-406e-aa2b-72331abaf25e",
   "metadata": {},
   "source": [
    "## Função `_carregar_objetos`"
   ]
  },
  {
   "cell_type": "code",
   "execution_count": null,
   "id": "5f7531d3-5165-4a64-a491-89c52c847cbd",
   "metadata": {},
   "outputs": [],
   "source": [
    "def _carregar_objetos(self, root):\n",
    "    objetos = []\n",
    "    for ponto in root.findall(\"ponto\"):\n",
    "        x = float(ponto.get(\"x\"))\n",
    "        y = float(ponto.get(\"y\"))\n",
    "        objetos.append((\"ponto\", [(x, y)]))\n",
    "    ...\n",
    "    return objetos"
   ]
  },
  {
   "cell_type": "markdown",
   "id": "86bb307f-591e-44f0-85f9-f7df50a42dfd",
   "metadata": {},
   "source": [
    "#### Objetivo: \n",
    "Carregar os objetos presentes no arquivo XML.\n",
    "#### Detalhes: \n",
    "Extrai os dados de pontos, retas e polígonos e os armazena em uma lista de objetos para visualização posterior."
   ]
  },
  {
   "cell_type": "markdown",
   "id": "2022bcf1-26f3-4bae-bf64-f84943786f11",
   "metadata": {},
   "source": [
    "---"
   ]
  },
  {
   "cell_type": "markdown",
   "id": "b8a205a3-e052-48f1-afd9-3934998d81d6",
   "metadata": {},
   "source": [
    "## Método `window2viewport`\n",
    "Este método converte as coordenadas do sistema de \"janela\" para o sistema de \"viewport\", permitindo a visualização correta dos objetos."
   ]
  },
  {
   "cell_type": "code",
   "execution_count": null,
   "id": "69a73799-cf01-4e73-be42-76a6d14b73ce",
   "metadata": {},
   "outputs": [],
   "source": [
    "def window2viewport(self, ponto):\n",
    "    x, y = ponto\n",
    "    wx_min, wy_min, wx_max, wy_max = self.window\n",
    "    vx_min, vy_min, vx_max, vy_max = self.viewport\n",
    "    ...\n",
    "    return vx, vy"
   ]
  },
  {
   "cell_type": "markdown",
   "id": "e7c066c6-4201-4ccb-8f8d-935fc3132bb8",
   "metadata": {},
   "source": [
    "#### Objetivo: \n",
    "Converter as coordenadas dos objetos do sistema de \"janela\" para o sistema de \"viewport\".\n",
    "#### Detalhes: \n",
    "Aplica uma transformação linear para ajustar as coordenadas, considerando o tamanho da janela e do viewport."
   ]
  },
  {
   "cell_type": "markdown",
   "id": "ecf5ebf0-eaf8-4250-bb8f-76bafa89769d",
   "metadata": {},
   "source": [
    "---"
   ]
  },
  {
   "cell_type": "markdown",
   "id": "98330b5d-4dbe-4d1a-b5dc-320ee4f5fd68",
   "metadata": {},
   "source": [
    "## Método `desenhar_viewport`\n",
    "Este método desenha os objetos na área de visualização (canvas) do programa.\n"
   ]
  },
  {
   "cell_type": "code",
   "execution_count": null,
   "id": "c82ff271-a718-4bd7-a578-8b702f889709",
   "metadata": {},
   "outputs": [],
   "source": [
    "def desenhar_viewport(self):\n",
    "    self.canvas.delete(\"all\")\n",
    "    for tipo, pontos in self.objetos:\n",
    "        ..."
   ]
  },
  {
   "cell_type": "markdown",
   "id": "f94a8e42-f1ea-4a26-a6ac-31ddab87500e",
   "metadata": {},
   "source": [
    "#### Objetivo: \n",
    "Desenhar os objetos (pontos, retas, polígonos) na área de visualização principal.\n",
    "#### Detalhes: \n",
    "Para cada objeto, o método converte as coordenadas para o sistema de viewport e desenha o objeto correspondente."
   ]
  },
  {
   "cell_type": "markdown",
   "id": "0a5280e1-03a5-4a15-8cab-9c233b384a44",
   "metadata": {},
   "source": [
    "---"
   ]
  },
  {
   "cell_type": "markdown",
   "id": "f92c2a14-0046-44a0-98c5-042842b194b6",
   "metadata": {},
   "source": [
    "## Método `desenhar_minimapa`\n",
    "Este método desenha uma versão em miniatura da área de visualização para facilitar a navegação.\n"
   ]
  },
  {
   "cell_type": "code",
   "execution_count": null,
   "id": "9221e706-9e4c-4ea1-871d-b3a826b511b2",
   "metadata": {},
   "outputs": [],
   "source": [
    "def desenhar_minimapa(self):\n",
    "    self.minimap.delete(\"all\")\n",
    "    ..."
   ]
  },
  {
   "cell_type": "markdown",
   "id": "ed2e74ec-395d-4964-99ea-b164075b8693",
   "metadata": {},
   "source": [
    "#### Objetivo: \n",
    "Exibir uma versão reduzida da área de visualização no minimapa.\n",
    "#### Detalhes: \n",
    "Similar ao desenhar_viewport, mas com escalas e proporções ajustadas para exibir o mapa completo de forma compacta."
   ]
  },
  {
   "cell_type": "markdown",
   "id": "7cdd8cbf-ad6c-428b-b0b3-007ecbca6ae3",
   "metadata": {},
   "source": [
    "---"
   ]
  },
  {
   "cell_type": "markdown",
   "id": "13862073-bd5c-42ea-bf80-c25713e3581a",
   "metadata": {},
   "source": [
    "## Método `mover_window_direcao`\n",
    "Este método é responsável por mover a \"janela\" de visualização dentro dos limites do mundo.\n"
   ]
  },
  {
   "cell_type": "code",
   "execution_count": null,
   "id": "9cd00a3d-69e4-44d8-9de7-f2664f618f9b",
   "metadata": {},
   "outputs": [],
   "source": [
    "def mover_window_direcao(self, dx, dy):\n",
    "    wx_min, wy_min, wx_max, wy_max = self.window\n",
    "    ..."
   ]
  },
  {
   "cell_type": "markdown",
   "id": "de617cc3-4666-403d-8b41-27907ad1ff4c",
   "metadata": {},
   "source": [
    "#### Objetivo: \n",
    "Mover a \"janela\" de visualização para a direção especificada (em pixels).\n",
    "#### Detalhes: \n",
    "Ajusta as coordenadas da \"janela\" e redesenha os objetos nas novas posições."
   ]
  },
  {
   "cell_type": "markdown",
   "id": "b3a6fcab-6952-428f-a85f-fccf89296fb5",
   "metadata": {},
   "source": [
    "---"
   ]
  },
  {
   "cell_type": "markdown",
   "id": "1590652c-2d96-4fe4-bb39-ba9010ceb853",
   "metadata": {},
   "source": [
    "## Método `gerar_arquivo_saida`\n",
    "Este método abre uma janela de diálogo para que o usuário selecione um arquivo XML. O arquivo é então carregado e os objetos 2D são desenhados na tela.\n"
   ]
  },
  {
   "cell_type": "code",
   "execution_count": null,
   "id": "27228851-45a7-4071-bf1c-5b4c23d20f46",
   "metadata": {},
   "outputs": [],
   "source": [
    "def gerar_arquivo_saida(self, caminho):\n",
    "    root = et.Element(\"root\")\n",
    "\n",
    "    # Criar a estrutura da viewport\n",
    "    viewport = et.SubElement(root, \"viewport\")\n",
    "    vpmin = et.SubElement(viewport, \"vpmin\", x=str(self.viewport[0]), y=str(self.viewport[1]))\n",
    "    vpmax = et.SubElement(viewport, \"vpmax\", x=str(self.viewport[2]), y=str(self.viewport[3]))\n",
    "\n",
    "    ..."
   ]
  },
  {
   "cell_type": "markdown",
   "id": "38e0bfbd-d467-448d-b2f4-683572aea96e",
   "metadata": {},
   "source": [
    "#### Objetivo: \n",
    "Gerar e salvar um arquivo XML contendo as configurações atuais do programa, incluindo a área de visualização (viewport), a \"janela\" de visualização e os objetos desenhados.\n",
    "#### Detalhes: \n",
    "A função começa criando a estrutura principal do XML com o elemento <root>.\n",
    "Em seguida, cria os subelementos viewport e window, contendo as coordenadas mínimas e máximas para ambos.\n",
    "A função então itera sobre os objetos (pontos, retas, etc.) e os adiciona ao arquivo XML com suas respectivas coordenadas.\n",
    "Por fim, o arquivo XML gerado é salvo no caminho especificado pelo usuário.\n",
    "\n",
    "Essa função é fundamental porque permite ao usuário salvar o estado atual do programa, o que é útil para persistir as informações entre sessões. O arquivo gerado pode ser reaberto mais tarde para continuar de onde parou ou para realizar modificações nos dados."
   ]
  },
  {
   "cell_type": "markdown",
   "id": "10c81b35-11d1-48e6-aa2e-92fd26337152",
   "metadata": {},
   "source": [
    "---"
   ]
  },
  {
   "cell_type": "markdown",
   "id": "fc261e90-514a-4816-aa31-357f97035e4c",
   "metadata": {},
   "source": [
    "## Código Completo"
   ]
  },
  {
   "cell_type": "code",
   "execution_count": null,
   "id": "9584fb3f-9ecc-4dc1-ad3d-0dbc37da403b",
   "metadata": {},
   "outputs": [],
   "source": [
    "import tkinter as tk\n",
    "from tkinter import filedialog, messagebox\n",
    "import xml.etree.ElementTree as et\n",
    "from xml.dom import minidom\n",
    "\n",
    "\n",
    "class Visualizador:\n",
    "    def __init__(self, root):\n",
    "        self.root = root\n",
    "        self.root.title(\"Visualizador de Objetos 2D\")\n",
    "\n",
    "        menu = tk.Menu(root)\n",
    "        root.config(menu=menu)\n",
    "        file_menu = tk.Menu(menu, tearoff=0)\n",
    "        menu.add_cascade(label=\"Arquivo\", menu=file_menu)\n",
    "        file_menu.add_command(label=\"Abrir\", command=self.abrir_arquivo)\n",
    "        file_menu.add_command(label=\"Salvar\", command=self.salvar_arquivo)\n",
    "\n",
    "        frame_principal = tk.Frame(root, bg=\"darkgray\")\n",
    "        frame_principal.pack(fill=\"both\", expand=True)\n",
    "        self.canvas = tk.Canvas(frame_principal, width=800, height=600, bg=\"white\")\n",
    "        self.canvas.pack(side=\"left\", fill=\"both\", expand=True)\n",
    "        self.minimap = tk.Canvas(frame_principal, width=150, height=120, bg=\"lightgrey\")\n",
    "        self.minimap.pack(side=\"right\", padx=10, pady=10)\n",
    "\n",
    "        self.window = (0, 0, 10, 7.5)\n",
    "        self.viewport = (0, 0, 800, 600)\n",
    "        self.objetos = []\n",
    "        self.mover_window = 1\n",
    "\n",
    "        self.root.bind(\"<Left>\", lambda e: self.mover_window_direcao(-self.mover_window, 0))\n",
    "        self.root.bind(\"<Right>\", lambda e: self.mover_window_direcao(self.mover_window, 0))\n",
    "        self.root.bind(\"<Up>\", lambda e: self.mover_window_direcao(0, self.mover_window))\n",
    "        self.root.bind(\"<Down>\", lambda e: self.mover_window_direcao(0, -self.mover_window))\n",
    "\n",
    "    def abrir_arquivo(self):\n",
    "        caminho = filedialog.askopenfilename(filetypes=[(\"Arquivos XML\", \"*.xml\")])\n",
    "        if caminho:\n",
    "            if not self.carregar_arquivo(caminho):\n",
    "                messagebox.showerror(\"Erro\", \"Falha ao carregar o arquivo.\")\n",
    "            else:\n",
    "                self.desenhar_viewport()\n",
    "                self.desenhar_minimapa()\n",
    "\n",
    "    def salvar_arquivo(self):\n",
    "        caminho = filedialog.asksaveasfilename(defaultextension=\".xml\", filetypes=[(\"Arquivos XML\", \"*.xml\")])\n",
    "        if caminho:\n",
    "            self.gerar_arquivo_saida(caminho)\n",
    "\n",
    "    def carregar_arquivo(self, caminho):\n",
    "        try:\n",
    "            self.objetos.clear()\n",
    "            tree = et.parse(caminho)\n",
    "            root = tree.getroot()\n",
    "\n",
    "            self.viewport = self._carregar_viewport(root)\n",
    "            self.window = self._carregar_window(root)\n",
    "\n",
    "            self.objetos.extend(self._carregar_objetos(root))\n",
    "\n",
    "            return True\n",
    "        except Exception as e:\n",
    "            print(f\"Erro ao carregar o arquivo: {e}\")\n",
    "            return False\n",
    "\n",
    "    def _carregar_viewport(self, root):\n",
    "        vpmin = root.find(\"./viewport/vpmin\")\n",
    "        vpmax = root.find(\"./viewport/vpmax\")\n",
    "        if vpmin is not None and vpmax is not None:\n",
    "            return (float(vpmin.get(\"x\")), float(vpmin.get(\"y\")),\n",
    "                    float(vpmax.get(\"x\")), float(vpmax.get(\"y\")))\n",
    "        return (0, 0, 800, 600)\n",
    "\n",
    "    def _carregar_window(self, root):\n",
    "        wmin = root.find(\"./window/wmin\")\n",
    "        wmax = root.find(\"./window/wmax\")\n",
    "        if wmin is not None and wmax is not None:\n",
    "            return (float(wmin.get(\"x\")), float(wmin.get(\"y\")),\n",
    "                    float(wmax.get(\"x\")), float(wmax.get(\"y\")))\n",
    "        return (0, 0, 10, 7.5)\n",
    "\n",
    "    def _carregar_objetos(self, root):\n",
    "        objetos = []\n",
    "        for ponto in root.findall(\"ponto\"):\n",
    "            x = float(ponto.get(\"x\"))\n",
    "            y = float(ponto.get(\"y\"))\n",
    "            objetos.append((\"ponto\", [(x, y)]))\n",
    "\n",
    "        for reta in root.findall(\"reta\"):\n",
    "            pontos_reta = [(float(p.get(\"x\")), float(p.get(\"y\"))) for p in reta.findall(\"ponto\")]\n",
    "            objetos.append((\"reta\", pontos_reta))\n",
    "\n",
    "        for poligono in root.findall(\"poligono\"):\n",
    "            pontos_poligono = [(float(p.get(\"x\")), float(p.get(\"y\"))) for p in poligono.findall(\"ponto\")]\n",
    "            objetos.append((\"poligono\", pontos_poligono))\n",
    "\n",
    "        return objetos\n",
    "\n",
    "    def window2viewport(self, ponto):\n",
    "        x, y = ponto\n",
    "        wx_min, wy_min, wx_max, wy_max = self.window\n",
    "        vx_min, vy_min, vx_max, vy_max = self.viewport\n",
    "\n",
    "        sx = (vx_max - vx_min) / (wx_max - wx_min)\n",
    "        sy = (vy_max - vy_min) / (wy_max - wy_min)\n",
    "\n",
    "        vx = vx_min + (x - wx_min) * sx\n",
    "        vy = vy_min + (wy_max - y) * sy\n",
    "        return vx, vy\n",
    "\n",
    "    def desenhar_viewport(self):\n",
    "        self.canvas.delete(\"all\")\n",
    "        for tipo, pontos in self.objetos:\n",
    "            if tipo == \"ponto\":\n",
    "                x_vp, y_vp = self.window2viewport(pontos[0])\n",
    "                self.canvas.create_oval(x_vp - 2, y_vp - 2, x_vp + 2, y_vp + 2, fill=\"black\")\n",
    "            elif tipo == \"reta\":\n",
    "                p1 = self.window2viewport(pontos[0])\n",
    "                p2 = self.window2viewport(pontos[1])\n",
    "                self.canvas.create_line(p1[0], p1[1], p2[0], p2[1], fill=\"blue\")\n",
    "            elif tipo == \"poligono\":\n",
    "                pontos_vp = [self.window2viewport(p) for p in pontos]\n",
    "                self.canvas.create_polygon(pontos_vp, outline=\"red\", fill=\"\", width=2)\n",
    "\n",
    "    def desenhar_minimapa(self):\n",
    "        self.minimap.delete(\"all\")\n",
    "\n",
    "        mini_vp_min_x, mini_vp_min_y, mini_vp_max_x, mini_vp_max_y = 0, 0, 150, 120\n",
    "        mini_width = mini_vp_max_x - mini_vp_min_x\n",
    "        mini_height = mini_vp_max_y - mini_vp_min_y\n",
    "\n",
    "        mundo_min_x, mundo_min_y = 0, 0\n",
    "        mundo_max_x, mundo_max_y = 25, 18.75\n",
    "\n",
    "        world_width = mundo_max_x - mundo_min_x\n",
    "        world_height = mundo_max_y - mundo_min_y\n",
    "        scale_x = mini_width / world_width\n",
    "        scale_y = mini_height / world_height\n",
    "\n",
    "        rect_min_x = mini_vp_min_x + (self.window[0] - mundo_min_x) * scale_x\n",
    "        rect_min_y = mini_height - (self.window[1] - mundo_min_y) * scale_y\n",
    "        rect_max_x = mini_vp_min_x + (self.window[2] - mundo_min_x) * scale_x\n",
    "        rect_max_y = mini_height - (self.window[3] - mundo_min_y) * scale_y\n",
    "\n",
    "        self.minimap.create_rectangle(\n",
    "            rect_min_x, rect_min_y, rect_max_x, rect_max_y,\n",
    "            outline=\"black\", fill=\"\", width=1, dash=(1,2)\n",
    "        )\n",
    "\n",
    "        for tipo, pontos in self.objetos:\n",
    "            pontos_mini = [(mini_vp_min_x + (x - mundo_min_x) * scale_x, mini_height - (y - mundo_min_y) * scale_y) for\n",
    "                           x, y in pontos]\n",
    "\n",
    "            if tipo == \"ponto\":\n",
    "                x, y = pontos_mini[0]\n",
    "                self.minimap.create_oval(x - 1, y - 1, x + 1, y + 1, fill=\"black\")\n",
    "            elif tipo == \"reta\":\n",
    "                p1, p2 = pontos_mini\n",
    "                self.minimap.create_line(p1[0], p1[1], p2[0], p2[1], fill=\"blue\")\n",
    "            elif tipo == \"poligono\":\n",
    "                self.minimap.create_polygon(pontos_mini, outline=\"red\", fill=\"\", width=1)\n",
    "\n",
    "    def mover_window_direcao(self, dx, dy):\n",
    "        wx_min, wy_min, wx_max, wy_max = self.window\n",
    "\n",
    "        nova_wx_min = wx_min + dx\n",
    "        nova_wy_min = wy_min + dy\n",
    "        nova_wx_max = wx_max + dx\n",
    "        nova_wy_max = wy_max + dy\n",
    "\n",
    "        mundo_min_x, mundo_min_y = 0, 0\n",
    "        mundo_max_x, mundo_max_y = 25, 18.75\n",
    "\n",
    "        if nova_wx_min < mundo_min_x:\n",
    "            nova_wx_min = mundo_min_x\n",
    "            nova_wx_max = nova_wx_min + (wx_max - wx_min)\n",
    "        if nova_wy_min < mundo_min_y:\n",
    "            nova_wy_min = mundo_min_y\n",
    "            nova_wy_max = nova_wy_min + (wy_max - wy_min)\n",
    "\n",
    "        if nova_wx_max > mundo_max_x:\n",
    "            nova_wx_max = mundo_max_x\n",
    "            nova_wx_min = nova_wx_max - (wx_max - wx_min)\n",
    "        if nova_wy_max > mundo_max_y:\n",
    "            nova_wy_max = mundo_max_y\n",
    "            nova_wy_min = nova_wy_max - (wy_max - wy_min)\n",
    "\n",
    "        self.window = (nova_wx_min, nova_wy_min, nova_wx_max, nova_wy_max)\n",
    "        self.desenhar_viewport()\n",
    "        self.desenhar_minimapa()\n",
    "\n",
    "    def gerar_arquivo_saida(self, caminho):\n",
    "        root = et.Element(\"dados\")\n",
    "        viewport_elem = et.SubElement(root, \"viewport\")\n",
    "        vpmin_elem = et.SubElement(viewport_elem, \"vpmin\", x=str(self.viewport[0]), y=str(self.viewport[1]))\n",
    "        vpmax_elem = et.SubElement(viewport_elem, \"vpmax\", x=str(self.viewport[2]), y=str(self.viewport[3]))\n",
    "\n",
    "        window_elem = et.SubElement(root, \"window\")\n",
    "        wmin_elem = et.SubElement(window_elem, \"wmin\", x=str(self.window[0]), y=str(self.window[1]))\n",
    "        wmax_elem = et.SubElement(window_elem, \"wmax\", x=str(self.window[2]), y=str(self.window[3]))\n",
    "\n",
    "        for tipo, pontos in self.objetos:\n",
    "            if tipo == \"ponto\":\n",
    "                ponto_elem = et.SubElement(root, \"ponto\", x=str(pontos[0][0]), y=str(pontos[0][1]))\n",
    "            elif tipo == \"reta\":\n",
    "                reta_elem = et.SubElement(root, \"reta\")\n",
    "                for ponto in pontos:\n",
    "                    et.SubElement(reta_elem, \"ponto\", x=str(ponto[0]), y=str(ponto[1]))\n",
    "            elif tipo == \"poligono\":\n",
    "                poligono_elem = et.SubElement(root, \"poligono\")\n",
    "                for ponto in pontos:\n",
    "                    et.SubElement(poligono_elem, \"ponto\", x=str(ponto[0]), y=str(ponto[1]))\n",
    "\n",
    "        tree = et.ElementTree(root)\n",
    "        tree.write(caminho)\n",
    "\n",
    "        with open(caminho, \"r\", encoding=\"utf-8\") as f:\n",
    "            xml_str = f.read()\n",
    "            reparado = minidom.parseString(xml_str).toprettyxml(indent=\"  \")\n",
    "            with open(caminho, \"w\", encoding=\"utf-8\") as f:\n",
    "                f.write(reparado)\n",
    "\n",
    "\n",
    "if __name__ == \"__main__\":\n",
    "    root = tk.Tk()\n",
    "    app = Visualizador(root)\n",
    "    root.mainloop()\n"
   ]
  },
  {
   "cell_type": "markdown",
   "id": "f22abc15-b05e-43a0-9efd-a471da887a92",
   "metadata": {},
   "source": [
    "---"
   ]
  },
  {
   "cell_type": "markdown",
   "id": "41f6eb69-50a0-428e-9987-f850de8b1289",
   "metadata": {},
   "source": [
    "## Conclusão\n",
    "\n",
    "Este projeto demonstra como criar uma aplicação gráfica interativa para visualizar objetos 2D. \n",
    "\n",
    "O uso de Tkinter para a interface gráfica e o XML para armazenar dados torna a aplicação eficiente e fácil de usar.\n",
    "\n",
    "A estrutura de dados foi cuidadosamente planejada para garantir que o código seja modular e fácil de entender, e a interface gráfica foi projetada para ser intuitiva e funcional."
   ]
  }
 ],
 "metadata": {
  "kernelspec": {
   "display_name": "Python 3 (ipykernel)",
   "language": "python",
   "name": "python3"
  },
  "language_info": {
   "codemirror_mode": {
    "name": "ipython",
    "version": 3
   },
   "file_extension": ".py",
   "mimetype": "text/x-python",
   "name": "python",
   "nbconvert_exporter": "python",
   "pygments_lexer": "ipython3",
   "version": "3.12.3"
  }
 },
 "nbformat": 4,
 "nbformat_minor": 5
}
